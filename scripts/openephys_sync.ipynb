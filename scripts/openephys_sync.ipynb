{
 "cells": [
  {
   "cell_type": "code",
   "execution_count": 4,
   "metadata": {},
   "outputs": [],
   "source": [
    "import numpy as np\n",
    "import pandas as pd\n",
    "from os import path\n",
    "import os\n",
    "import sys\n",
    "import platform\n",
    "from matplotlib import pyplot as plt\n",
    "import qgrid"
   ]
  },
  {
   "cell_type": "markdown",
   "metadata": {},
   "source": [
    "# Binary Format"
   ]
  },
  {
   "cell_type": "code",
   "execution_count": 52,
   "metadata": {},
   "outputs": [],
   "source": [
    "def load_oo_events(rec_folder):\n",
    "    #define event folde\n",
    "    if platform.system() == 'Linux':\n",
    "        event_folder = rec_folder+r\"/events/Rhythm_FPGA-100.0/TTL_1\"\n",
    "    elif platform.system() == 'Windows':\n",
    "        event_folder = rec_folder+r\"\\events\\Rhythm_FPGA-100.0\\TTL_1\"\n",
    "    elif platform.system() == 'Darwin': #macos\n",
    "        event_folder = rec_folder+r\"/events/Rhythm_FPGA-100.0/TTL_1\"\n",
    "    \n",
    "    # load infos\n",
    "    channel_states_ar = np.load(path.join(event_folder,'channel_states.npy'))\n",
    "    channels_ar = np.load(path.join(event_folder,'channels.npy'))\n",
    "    #text_ar = np.load(path.join(event_folder,'text.npy'))\n",
    "    full_words = np.load(path.join(event_folder,'full_words.npy'))\n",
    "    timestamps_ar = np.load(path.join(event_folder,'timestamps.npy'))\n",
    "    # normalize\n",
    "    timestamps_nor_ar = timestamps_ar - timestamps_ar[0]\n",
    "    \n",
    "    # create array\n",
    "    oe_events_ar = np.zeros([timestamps_nor_ar.shape[0],5])\n",
    "    oe_events_ar[:,0]=timestamps_ar\n",
    "    oe_events_ar[:,1]=timestamps_nor_ar/30\n",
    "    oe_events_ar[:,2]=timestamps_nor_ar/30000\n",
    "    oe_events_ar[:,3]=channel_states_ar\n",
    "    oe_events_ar[:,4]=channels_ar\n",
    "    \n",
    "    # create dataframe\n",
    "    oe_events_df = pd.DataFrame(oe_events_ar,columns=[\"samplerate_absolut\",\"ms_relativ\",\"s_relativ\",\"event\",\"channel\"])\n",
    "    return oe_events_df\n",
    "\n",
    "def extract_events_oo(oe_events_df):\n",
    "    oe_sync_df = (oe_events_df.loc[np.logical_or(oe_events_df['channel']==1, oe_events_df['channel']==2)]).copy()\n",
    "    oe_sync_df.reset_index(inplace=True,drop=True)\n",
    "    oe_trials = []\n",
    "\n",
    "    trial=False\n",
    "    bnc1=-1\n",
    "    bnc2=-1\n",
    "    for row in  oe_sync_df.index.values[1:]:\n",
    "        # check bnc state\n",
    "        if oe_sync_df.loc[row,\"channel\"]==1:\n",
    "            bnc1=oe_sync_df.loc[row,\"event\"]\n",
    "        if oe_sync_df.loc[row,\"channel\"]==2:\n",
    "            bnc2=oe_sync_df.loc[row,\"event\"]\n",
    "        # 1 2 = start\n",
    "        if oe_sync_df.loc[row,\"event\"]==2 and oe_sync_df.loc[row-1,\"event\"]==1:\n",
    "            if oe_sync_df.loc[row,\"ms_relativ\"]==oe_sync_df.loc[row-1,\"ms_relativ\"]:\n",
    "                if trial == False:\n",
    "                    oe_trials.append([oe_sync_df.loc[row,\"ms_relativ\"],\"start\"])\n",
    "                    #oe_trials.append([oe_sync_df.loc[row+1,\"ms_relativ\"],\"event\"])\n",
    "                    trial=True\n",
    "                elif trial == True:\n",
    "                    oe_trials.append([oe_sync_df.loc[row,\"ms_relativ\"],\"event\"])\n",
    "                    oe_trials.append([oe_sync_df.loc[row+1,\"ms_relativ\"],\"event\"])\n",
    "                    oe_trials.append([oe_sync_df.loc[row+1,\"ms_relativ\"],\"end\"])\n",
    "                    trial=False\n",
    "\n",
    "        # 1 0 = reward event\n",
    "        if oe_sync_df.loc[row,\"channel\"]==1 and trial:\n",
    "            if not(oe_sync_df.loc[row+1,\"channel\"]==2 and oe_sync_df.loc[row,\"ms_relativ\"]==oe_sync_df.loc[row+1,\"ms_relativ\"]):\n",
    "                oe_trials.append([oe_sync_df.loc[row,\"ms_relativ\"],\"reward_event\"])\n",
    "                #oe_events.append([oe_sync_df.loc[row+1,\"s_relativ\"],\"reward_end\"])\n",
    "\n",
    "        # 0 1 = normal event\n",
    "        if oe_sync_df.loc[row,\"channel\"]==2:\n",
    "            if not(oe_sync_df.loc[row-1,\"event\"]==1 and oe_sync_df.loc[row,\"ms_relativ\"]==oe_sync_df.loc[row-1,\"ms_relativ\"]) and trial:\n",
    "                oe_trials.append([oe_sync_df.loc[row,\"ms_relativ\"],\"event\"])\n",
    "                #oe_events.append([oe_sync_df.loc[row+1,\"s_relativ\"],\"reward_end\"])\n",
    "\n",
    "\n",
    "    oe_trials_df = pd.DataFrame(oe_trials,columns=[\"ms_relativ\",\"event_type\"]) \n",
    "    return oe_trials_df\n",
    "\n",
    "def convert_to_seconds(csv_string):\n",
    "    utc_time = datetime.strptime(csv_string,\n",
    "                                \"%Y-%m-%d %H:%M:%S.%f\"\n",
    "                                )\n",
    "    return utc_time.timestamp()\n",
    "\n",
    "def load_bp_events(root_dir,session):\n",
    "    #specify path\n",
    "    if platform.system() == 'Linux':\n",
    "        event_folder = (root_dir + \"/experiments/gamble_task/setups/gamble_task_recording/sessions\")\n",
    "    elif platform.system() == 'Windows':\n",
    "        folder = (root_dir + r\"\\experiments\\gamble_task\\setups\\gamble_task_recording\\sessions\")\n",
    "    elif platform.system() == 'Darwin': #macos\n",
    "        folder= (root_dir + \"/experiments/gamble_task/setups/gamble_task_recording/sessions\")\n",
    "    \n",
    "    ext = \".csv\"\n",
    "    # read csv\n",
    "    session_df = pd.read_csv(path.join(folder,session,session)+ext,sep=';',header=6)\n",
    "    #convert string to datetime\n",
    "    session_df[\"datetime\"]=(pd.to_datetime(session_df[\"PC-TIME\"].values,format=\"%Y-%m-%d %H:%M:%S.%f\")).values\n",
    "    # get milliseconds\n",
    "    session_df[\"ms_absolut\"]=session_df[\"datetime\"].apply(lambda x: x.timestamp()*1000)\n",
    "    session_df[\"ms_relativ\"]=session_df[\"ms_absolut\"]-session_df.loc[14,\"ms_absolut\"]\n",
    "\n",
    "    return session_df\n",
    "\n",
    "def get_sync(openephys_dir,pybpod_root,pybpod_session):\n",
    "    # load openephys ttl\n",
    "    oe_events_df = load_oo_events(openephys_dir)\n",
    "    # load pybpod events\n",
    "    pb_events_df = load_bp_events(pybpod_root,pybpod_session)\n",
    "    \n",
    "    # conver ttl to events\n",
    "    oe_trials_df = extract_events_oo(oe_events_df)\n",
    "    \n",
    "    # create combined df\n",
    "    # select bpod necessary files\n",
    "    selector = np.logical_or(np.logical_or(pb_events_df.TYPE==\"TRANSITION\",pb_events_df.TYPE==\"TRIAL\"),pb_events_df.TYPE==\"END-TRIAL\")\n",
    "    pb_sync_df = pb_events_df.loc[selector,[\"MSG\",\"ms_relativ\",\"BPOD-INITIAL-TIME\"]]\n",
    "    # combine both\n",
    "    combined_ar = np.zeros([pb_sync_df.shape[0],4],dtype=object)\n",
    "    combined_ar[:oe_trials_df.shape[0],[0,2]]=oe_trials_df.values\n",
    "    combined_ar[:pb_sync_df.shape[0],[1,3]]=pb_sync_df.loc[:,[\"ms_relativ\",\"MSG\"]].values\n",
    "    combined_df=pd.DataFrame(combined_ar,columns=[\"oe_ms_relativ\",\"pb_ms_relativ\",\"oe_event\",\"pb_event\"])\n",
    "    combined_df[\"delta_pb_oe\"]=combined_df[\"pb_ms_relativ\"]-combined_df[\"oe_ms_relativ\"]\n",
    "    \n",
    "    return combined_df\n",
    "\n",
    "# Plotting =============================================================================================\n",
    "\n",
    "def plt_start_stop_dif(combined_df):\n",
    "    # get data\n",
    "    start=(combined_df.loc[combined_df['pb_event']=='New trial']).copy()\n",
    "    start.reset_index(inplace=True,drop=True)\n",
    "    stop=(combined_df.loc[combined_df['pb_event']=='The trial ended']).copy()\n",
    "    stop.reset_index(inplace=True,drop=True)\n",
    "\n",
    "    # plot data\n",
    "    fig,ax = plt.subplots()\n",
    "    ax.plot(start['delta_pb_oe'],color='r',label='start')\n",
    "    ax.plot(stop['delta_pb_oe'],color='g',label='end')\n",
    "\n",
    "    # labeling\n",
    "    ax.set_xlabel(\"trial number\")\n",
    "    ax.set_ylabel(\"diff pb-oe [ms]\")\n",
    "    ax.grid()\n",
    "    fig.legend()\n",
    "    \n",
    "    return fig,ax\n"
   ]
  },
  {
   "cell_type": "code",
   "execution_count": 26,
   "metadata": {},
   "outputs": [],
   "source": [
    "openephys_dir = r\"C:\\maxland_RECORDING\\openephys\\2021-02-19_15-54-34\\Record Node 101\\experiment1\\recording1\"\n",
    "pybpod_session = \"20210219-155417\"\n",
    "pybpod_root = r\"C:\\maxland_RECORDING\""
   ]
  },
  {
   "cell_type": "code",
   "execution_count": null,
   "metadata": {},
   "outputs": [],
   "source": []
  },
  {
   "cell_type": "code",
   "execution_count": 27,
   "metadata": {},
   "outputs": [
    {
     "data": {
      "application/vnd.jupyter.widget-view+json": {
       "model_id": "fb2e7dc206b34106a621ed8d4ca393f4",
       "version_major": 2,
       "version_minor": 0
      },
      "text/plain": [
       "QgridWidget(grid_options={'fullWidthRows': True, 'syncColumnCellResize': True, 'forceFitColumns': True, 'defau…"
      ]
     },
     "metadata": {},
     "output_type": "display_data"
    }
   ],
   "source": [
    "combined_df = get_sync(openephys_dir,pybpod_root,pybpod_session)\n",
    "qgrid.show_grid(combined_df)"
   ]
  },
  {
   "cell_type": "code",
   "execution_count": 53,
   "metadata": {},
   "outputs": [
    {
     "data": {
      "text/plain": [
       "(<Figure size 432x288 with 1 Axes>,\n",
       " <AxesSubplot:xlabel='trial number', ylabel='diff pb-oe [ms]'>)"
      ]
     },
     "execution_count": 53,
     "metadata": {},
     "output_type": "execute_result"
    },
    {
     "data": {
      "image/png": "[encoded data removed]",
      "text/plain": [
       "<Figure size 432x288 with 1 Axes>"
      ]
     },
     "metadata": {
      "needs_background": "light"
     },
     "output_type": "display_data"
    }
   ],
   "source": [
    "plt_start_stop_dif(combined_df)"
   ]
  },
  {
   "cell_type": "markdown",
   "metadata": {
    "heading_collapsed": true
   },
   "source": [
    "## Load OpenEphys Events"
   ]
  },
  {
   "cell_type": "code",
   "execution_count": 10,
   "metadata": {
    "hidden": true,
    "scrolled": false
   },
   "outputs": [
    {
     "data": {
      "application/vnd.jupyter.widget-view+json": {
       "model_id": "9b9a3bf724424a50b53f82ff8629250f",
       "version_major": 2,
       "version_minor": 0
      },
      "text/plain": [
       "QgridWidget(grid_options={'fullWidthRows': True, 'syncColumnCellResize': True, 'forceFitColumns': True, 'defau…"
      ]
     },
     "metadata": {},
     "output_type": "display_data"
    }
   ],
   "source": [
    "oe_events_df = load_oo_events(openephys_dir)\n",
    "qgrid.show_grid(oe_events_df)\n"
   ]
  },
  {
   "cell_type": "markdown",
   "metadata": {
    "heading_collapsed": true,
    "hidden": true
   },
   "source": [
    "### Plot"
   ]
  },
  {
   "cell_type": "code",
   "execution_count": 20,
   "metadata": {
    "hidden": true
   },
   "outputs": [
    {
     "data": {
      "text/plain": [
       "<matplotlib.legend.Legend at 0x1d833944978>"
      ]
     },
     "execution_count": 20,
     "metadata": {},
     "output_type": "execute_result"
    },
    {
     "data": {
      "image/png": "[encoded data removed]",
      "text/plain": [
       "<Figure size 432x288 with 1 Axes>"
      ]
     },
     "metadata": {
      "needs_background": "light"
     },
     "output_type": "display_data"
    }
   ],
   "source": [
    "fig,ax = plt.subplots()\n",
    "ax.vlines(oe_events_df.loc[oe_events_df.event==1,\"s_relativ\"], 0,1, label='+1', color ='r')\n",
    "ax.vlines(oe_events_df.loc[oe_events_df.event==-1,\"s_relativ\"], 0,1, label='-1', color ='r',linestyle='--')\n",
    "\n",
    "ax.vlines(oe_events_df.loc[oe_events_df.event==2,\"s_relativ\"], 1,2, label='+2', color ='b')\n",
    "ax.vlines(oe_events_df.loc[oe_events_df.event==-2,\"s_relativ\"], 1,2, label='-2', color ='b',linestyle='--')\n",
    "\n",
    "#ax.vlines(ch2, 0,1, label='2', color='grey', alpha=0.5)\n",
    "#ax.vlines(ch5, 0,1, label='5',color='grey', alpha=0.5)\n",
    "fig.legend()"
   ]
  },
  {
   "cell_type": "markdown",
   "metadata": {
    "heading_collapsed": true
   },
   "source": [
    "## Load PyBpod Events"
   ]
  },
  {
   "cell_type": "code",
   "execution_count": 11,
   "metadata": {
    "hidden": true
   },
   "outputs": [
    {
     "data": {
      "application/vnd.jupyter.widget-view+json": {
       "model_id": "3ff566f3ce9c4c03802ae0f1d9e1dc2f",
       "version_major": 2,
       "version_minor": 0
      },
      "text/plain": [
       "QgridWidget(grid_options={'fullWidthRows': True, 'syncColumnCellResize': True, 'forceFitColumns': True, 'defau…"
      ]
     },
     "metadata": {},
     "output_type": "display_data"
    }
   ],
   "source": [
    "pb_events_df = load_bp_events(pybpod_root,pybpod_session)\n",
    "\n",
    "selector = np.logical_or(pb_events_df.TYPE==\"TRANSITION\",pb_events_df.TYPE==\"TRIAL\")\n",
    "pb_sync_df = pb_events_df.loc[selector,[\"MSG\",\"ms_relativ\",\"BPOD-INITIAL-TIME\"]]\n",
    "pb_sync_df.reset_index(drop=True,inplace=True)\n",
    "\n",
    "qgrid.show_grid(pb_events_df)"
   ]
  },
  {
   "cell_type": "code",
   "execution_count": 12,
   "metadata": {
    "hidden": true
   },
   "outputs": [
    {
     "data": {
      "application/vnd.jupyter.widget-view+json": {
       "model_id": "772d4e7692be4167865b10ac361e59d6",
       "version_major": 2,
       "version_minor": 0
      },
      "text/plain": [
       "QgridWidget(grid_options={'fullWidthRows': True, 'syncColumnCellResize': True, 'forceFitColumns': True, 'defau…"
      ]
     },
     "metadata": {},
     "output_type": "display_data"
    }
   ],
   "source": [
    "oe_trials_df = extract_events_oo(oe_events_df)\n",
    "qgrid.show_grid(oe_trials_df)"
   ]
  },
  {
   "cell_type": "markdown",
   "metadata": {
    "heading_collapsed": true
   },
   "source": [
    "## Combine Both"
   ]
  },
  {
   "cell_type": "code",
   "execution_count": 240,
   "metadata": {
    "hidden": true
   },
   "outputs": [
    {
     "data": {
      "application/vnd.jupyter.widget-view+json": {
       "model_id": "30519170085d44b69396588094a62815",
       "version_major": 2,
       "version_minor": 0
      },
      "text/plain": [
       "QgridWidget(grid_options={'fullWidthRows': True, 'syncColumnCellResize': True, 'forceFitColumns': True, 'defau…"
      ]
     },
     "metadata": {},
     "output_type": "display_data"
    }
   ],
   "source": [
    "selector = np.logical_or(pb_events_df.TYPE==\"TRANSITION\",pb_events_df.TYPE==\"TRIAL\")\n",
    "pb_sync_df = pb_events_df.loc[selector,[\"MSG\",\"ms_relativ\",\"BPOD-INITIAL-TIME\"]]\n",
    "\n",
    "combined_ar = np.zeros([pb_sync_df.shape[0],4],dtype=object)\n",
    "combined_ar[:oe_trials_df.shape[0],[0,2]]=oe_trials_df.values\n",
    "combined_ar[:pb_sync_df.shape[0],[1,3]]=pb_sync_df.loc[:,[\"ms_relativ\",\"MSG\"]].values\n",
    "combined_df=pd.DataFrame(combined_ar,columns=[\"oe_ms_relativ\",\"pb_ms_relativ\",\"oe_event\",\"pb_event\"])\n",
    "combined_df[\"delta_pb_oe\"]=combined_df[\"pb_ms_relativ\"]-combined_df[\"oe_ms_relativ\"]\n",
    "\n",
    "qgrid.show_grid(combined_df)"
   ]
  },
  {
   "cell_type": "markdown",
   "metadata": {
    "heading_collapsed": true
   },
   "source": [
    "# Workbench"
   ]
  },
  {
   "cell_type": "code",
   "execution_count": null,
   "metadata": {
    "hidden": true
   },
   "outputs": [],
   "source": []
  }
 ],
 "metadata": {
  "kernelspec": {
   "display_name": "Python 3",
   "language": "python",
   "name": "python3"
  },
  "language_info": {
   "codemirror_mode": {
    "name": "ipython",
    "version": 3
   },
   "file_extension": ".py",
   "mimetype": "text/x-python",
   "name": "python",
   "nbconvert_exporter": "python",
   "pygments_lexer": "ipython3",
   "version": "3.6.12"
  },
  "toc": {
   "base_numbering": 1,
   "nav_menu": {},
   "number_sections": true,
   "sideBar": true,
   "skip_h1_title": false,
   "title_cell": "Table of Contents",
   "title_sidebar": "Contents",
   "toc_cell": false,
   "toc_position": {},
   "toc_section_display": true,
   "toc_window_display": false
  }
 },
 "nbformat": 4,
 "nbformat_minor": 5
}
